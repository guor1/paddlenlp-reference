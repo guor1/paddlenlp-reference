{
 "cells": [
  {
   "cell_type": "code",
   "execution_count": 1,
   "id": "f7f4002a-b612-4966-a653-2dec9c82c2be",
   "metadata": {},
   "outputs": [],
   "source": [
    "import cv2\n",
    "import matplotlib.pyplot as plt\n",
    "import numpy as np\n",
    "import imutils\n",
    "from imutils import auto_canny"
   ]
  },
  {
   "cell_type": "code",
   "execution_count": 2,
   "id": "e0a4a951-6fe9-4171-920c-5148985c1425",
   "metadata": {},
   "outputs": [],
   "source": [
    "def imshow(image):\n",
    "    plt.imshow(imutils.opencv2matplotlib(image))\n",
    "    plt.show()\n",
    "\n",
    "\n",
    "def cv2_imshow(image):\n",
    "    cv2.imshow('image', image)\n",
    "    cv2.waitKey(0)\n",
    "    cv2.destroyAllWindows()"
   ]
  },
  {
   "cell_type": "code",
   "execution_count": 3,
   "id": "cfd995b0-7eaf-4b6a-8160-0b68a92407bd",
   "metadata": {},
   "outputs": [
    {
     "name": "stdout",
     "output_type": "stream",
     "text": [
      "Image size: 3317x2346 (3 channels)\n"
     ]
    }
   ],
   "source": [
    "# 打开图像，原图\n",
    "image = cv2.imread('answer_card.jpg')\n",
    "# opencv的imshow\n",
    "# cv2.imshow('image', cropped_image)\n",
    "# cv2.waitKey(0)\n",
    "# cv2.destroyAllWindows()\n",
    "\n",
    "# 图像尺寸\n",
    "height, width, channels = image.shape\n",
    "print(f\"Image size: {width}x{height} ({channels} channels)\")\n",
    "#图像裁剪\n",
    "# cropped_image = image[50:200, 100:300]\n",
    "#图像缩放\n",
    "# resized_image = cv2.resize(image, (1500, 1200))"
   ]
  },
  {
   "cell_type": "code",
   "execution_count": 4,
   "id": "39bf7c6f-fb36-489a-8446-1d3efe8045d9",
   "metadata": {},
   "outputs": [],
   "source": [
    "#灰度处理\n",
    "gray_image = cv2.cvtColor(image, cv2.COLOR_BGR2GRAY)\n",
    "#高斯模糊\n",
    "blurred = cv2.GaussianBlur(gray_image, (5, 5), 0)\n",
    "#边缘检测\n",
    "edged_image = auto_canny(gray_image)"
   ]
  },
  {
   "cell_type": "code",
   "execution_count": 5,
   "id": "5fbd2c35-45df-4a68-ac8c-e8ce4655fef9",
   "metadata": {},
   "outputs": [
    {
     "data": {
      "text/plain": [
       "array([[0, 0, 0, ..., 0, 0, 0],\n",
       "       [0, 0, 0, ..., 0, 0, 0],\n",
       "       [0, 0, 0, ..., 0, 0, 0],\n",
       "       ...,\n",
       "       [0, 0, 0, ..., 0, 0, 0],\n",
       "       [0, 0, 0, ..., 0, 0, 0],\n",
       "       [0, 0, 0, ..., 0, 0, 0]], dtype=uint8)"
      ]
     },
     "execution_count": 5,
     "metadata": {},
     "output_type": "execute_result"
    }
   ],
   "source": [
    "#轮廓检测\n",
    "# https://www.jianshu.com/p/83f714a4dbc7\n",
    "contours, _ = cv2.findContours(edged_image.copy(), cv2.RETR_EXTERNAL, cv2.CHAIN_APPROX_SIMPLE)\n",
    "cv2.drawContours(edged_image, contours, -1, (0, 255, 0), 2)"
   ]
  }
 ],
 "metadata": {
  "kernelspec": {
   "display_name": "Python 3 (ipykernel)",
   "language": "python",
   "name": "python3"
  },
  "language_info": {
   "codemirror_mode": {
    "name": "ipython",
    "version": 3
   },
   "file_extension": ".py",
   "mimetype": "text/x-python",
   "name": "python",
   "nbconvert_exporter": "python",
   "pygments_lexer": "ipython3",
   "version": "3.10.12"
  }
 },
 "nbformat": 4,
 "nbformat_minor": 5
}
