{
 "cells": [
  {
   "cell_type": "code",
   "execution_count": 7,
   "id": "e35bc6ee-545f-4a46-99ec-8d9d73cea4b1",
   "metadata": {},
   "outputs": [],
   "source": [
    "import json"
   ]
  },
  {
   "cell_type": "code",
   "execution_count": 8,
   "id": "7fee73d8-8e36-40a8-ac61-2565f05108d6",
   "metadata": {},
   "outputs": [],
   "source": [
    "with open('Untitled-1.json', mode='r', encoding='utf-8') as file:\n",
    "    jsonDat = json.load(file)"
   ]
  },
  {
   "cell_type": "code",
   "execution_count": 9,
   "id": "aaedf3eb-38cb-4d7b-a8c2-123dbeccfef1",
   "metadata": {},
   "outputs": [
    {
     "data": {
      "text/plain": [
       "849"
      ]
     },
     "execution_count": 9,
     "metadata": {},
     "output_type": "execute_result"
    }
   ],
   "source": [
    "len(jsonDat)"
   ]
  },
  {
   "cell_type": "code",
   "execution_count": 14,
   "id": "4436797e-e544-4a2e-8c66-1c0391c39131",
   "metadata": {},
   "outputs": [],
   "source": [
    "ret = []"
   ]
  },
  {
   "cell_type": "code",
   "execution_count": 17,
   "id": "5452d63f-98d3-4b08-a190-4c92243ab0a9",
   "metadata": {},
   "outputs": [],
   "source": [
    "for i in range(len(jsonDat)):\n",
    "    ret.append(jsonDat[i]['_source'])"
   ]
  },
  {
   "cell_type": "code",
   "execution_count": 20,
   "id": "6ebb3ede-fdb9-460e-8109-4b4815a3c8c6",
   "metadata": {},
   "outputs": [],
   "source": [
    "import csv\n",
    "\n",
    "with open('output.csv', 'w', newline='') as csvfile:\n",
    "    fieldnames = list(ret[0].keys())\n",
    "    writer = csv.DictWriter(csvfile, fieldnames=fieldnames)\n",
    "\n",
    "    writer.writeheader()\n",
    "    for item in ret:\n",
    "        writer.writerow(item)"
   ]
  }
 ],
 "metadata": {
  "kernelspec": {
   "display_name": "Python 3 (ipykernel)",
   "language": "python",
   "name": "python3"
  },
  "language_info": {
   "codemirror_mode": {
    "name": "ipython",
    "version": 3
   },
   "file_extension": ".py",
   "mimetype": "text/x-python",
   "name": "python",
   "nbconvert_exporter": "python",
   "pygments_lexer": "ipython3",
   "version": "3.10.12"
  }
 },
 "nbformat": 4,
 "nbformat_minor": 5
}
