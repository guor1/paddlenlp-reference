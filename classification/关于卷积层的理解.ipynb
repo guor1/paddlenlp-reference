{
 "cells": [
  {
   "cell_type": "markdown",
   "id": "a771d322-3bbe-4e9c-8b06-cfeec654b6c0",
   "metadata": {},
   "source": [
    "# 关于卷积层的理解"
   ]
  },
  {
   "cell_type": "code",
   "execution_count": null,
   "id": "a78ffcce-afa8-4454-a6ec-9c8029316800",
   "metadata": {
    "scrolled": true,
    "tags": []
   },
   "outputs": [],
   "source": [
    "import paddle\n",
    "from paddle import nn\n",
    "import paddle.nn.functional as F"
   ]
  },
  {
   "cell_type": "code",
   "execution_count": null,
   "id": "03b39025-6edb-4497-b402-62e098ed40a9",
   "metadata": {
    "scrolled": true,
    "tags": []
   },
   "outputs": [],
   "source": [
    "#字典表长度\n",
    "vocab_size = 1000\n",
    "#词嵌入维度\n",
    "embed_dim = 100\n",
    "#卷积核尺寸\n",
    "kernel_size = 3\n",
    "#卷积核个数\n",
    "num_filter = 128"
   ]
  },
  {
   "cell_type": "code",
   "execution_count": null,
   "id": "e3b65717-a6bd-4943-bf35-8d8dce6aacaa",
   "metadata": {
    "scrolled": true,
    "tags": []
   },
   "outputs": [],
   "source": [
    "embedding = nn.Embedding(num_embeddings=vocab_size, embedding_dim=embed_dim)\n",
    "conv = nn.Conv1D(in_channels=embed_dim, out_channels=num_filter, kernel_size=kernel_size, padding='SAME')\n",
    "pool = nn.AdaptiveMaxPool1D(output_size=1)"
   ]
  },
  {
   "cell_type": "code",
   "execution_count": null,
   "id": "71e1777f-80e5-476c-b401-b0a79cd82bc0",
   "metadata": {
    "scrolled": true,
    "tags": []
   },
   "outputs": [],
   "source": [
    "x = paddle.to_tensor([[0, 1, 3, 1, 3, 1, 3, 1, 3], [0, 1, 3, 1, 3, 1, 3, 1, 3]], dtype=\"int64\", stop_gradient=False)\n",
    "# embedding 输出shape为：批量N*tokens长度L*词嵌入维度C\n",
    "embeddings = embedding(x)\n",
    "# 由于Cov1D 输入尺寸定义为 NCL，所以需要对embeddings进行转置\n",
    "embeddings = embeddings.transpose([0, 2, 1])\n",
    "print(f\"embeddings.shape: {embeddings.shape}\")\n",
    "# 卷积层通过计算卷积，对输入进行聚焦（平移不变性、局部性），结合池化层一个卷积核最终计算一个特征\n",
    "conv1d_out = conv(embeddings)\n",
    "print(f\"conv1d_out.shape: {conv1d_out.shape}\")\n",
    "pooled_output = pool(conv1d_out)\n",
    "pooled_output = pooled_output.squeeze(-1)\n",
    "print(f\"pooled_output.shape: {pooled_output.shape}\")"
   ]
  }
 ],
 "metadata": {
  "kernelspec": {
   "display_name": "Python 3 (ipykernel)",
   "language": "python",
   "name": "python3"
  },
  "language_info": {
   "codemirror_mode": {
    "name": "ipython",
    "version": 3
   },
   "file_extension": ".py",
   "mimetype": "text/x-python",
   "name": "python",
   "nbconvert_exporter": "python",
   "pygments_lexer": "ipython3",
   "version": "3.10.12"
  }
 },
 "nbformat": 4,
 "nbformat_minor": 5
}
