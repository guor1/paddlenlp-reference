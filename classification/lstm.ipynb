{
 "cells": [
  {
   "cell_type": "code",
   "execution_count": 6,
   "id": "efc6b201-7964-4a3b-acd9-9b0e9eead951",
   "metadata": {},
   "outputs": [
    {
     "name": "stdout",
     "output_type": "stream",
     "text": [
      "-------------------------------------------------------------------------------------------------\n",
      " Layer (type)       Input Shape                     Output Shape                    Param #    \n",
      "=================================================================================================\n",
      "    LSTM-2         [[1, 10, 100]]    [[1, 10, 128], [[1, 1, 128], [1, 1, 128]]]     117,760    \n",
      "=================================================================================================\n",
      "Total params: 117,760\n",
      "Trainable params: 117,760\n",
      "Non-trainable params: 0\n",
      "-------------------------------------------------------------------------------------------------\n",
      "Input size (MB): 0.00\n",
      "Forward/backward pass size (MB): 0.01\n",
      "Params size (MB): 0.45\n",
      "Estimated Total Size (MB): 0.46\n",
      "-------------------------------------------------------------------------------------------------\n",
      "\n"
     ]
    },
    {
     "data": {
      "text/plain": [
       "{'total_params': 117760, 'trainable_params': 117760}"
      ]
     },
     "execution_count": 6,
     "metadata": {},
     "output_type": "execute_result"
    }
   ],
   "source": [
    "import warnings\n",
    "\n",
    "import paddle\n",
    "from paddlenlp.seq2vec import LSTMEncoder\n",
    "\n",
    "warnings.filterwarnings('ignore', category=UserWarning, message=\"Setuptools is replacing distutils\")\n",
    "\n",
    "# 词嵌入维度100，隐藏层维度128\n",
    "lstm_encoder = LSTMEncoder(100, 128)\n",
    "paddle.summary(lstm_encoder, ([1, 10, 100], [1]), dtypes=['float32', 'int32'])"
   ]
  }
 ],
 "metadata": {
  "kernelspec": {
   "display_name": "Python 3 (ipykernel)",
   "language": "python",
   "name": "python3"
  },
  "language_info": {
   "codemirror_mode": {
    "name": "ipython",
    "version": 3
   },
   "file_extension": ".py",
   "mimetype": "text/x-python",
   "name": "python",
   "nbconvert_exporter": "python",
   "pygments_lexer": "ipython3",
   "version": "3.10.12"
  }
 },
 "nbformat": 4,
 "nbformat_minor": 5
}
