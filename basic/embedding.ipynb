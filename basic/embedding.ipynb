{
 "cells": [
  {
   "cell_type": "markdown",
   "id": "83a8d522-1429-49be-bf67-0228bf44abd1",
   "metadata": {},
   "source": [
    "# API文档\n",
    "\n",
    "1. https://www.paddlepaddle.org.cn/documentation/docs/zh/api/paddle/nn/Embedding_cn.html"
   ]
  },
  {
   "cell_type": "code",
   "execution_count": 1,
   "id": "44e06a6b-2de9-4d7d-9a78-ef97a5dc121e",
   "metadata": {},
   "outputs": [],
   "source": [
    "import paddle as T\n",
    "from paddle.nn import Embedding"
   ]
  },
  {
   "cell_type": "code",
   "execution_count": 2,
   "id": "177f0e9a-9f23-4b0e-b290-f72027cf0e5d",
   "metadata": {},
   "outputs": [
    {
     "name": "stdout",
     "output_type": "stream",
     "text": [
      "[5, 10] [5, 10, 100]\n"
     ]
    }
   ],
   "source": [
    "x = T.randint(low=0, high=10000, shape=[5, 10])\n",
    "# num_embeddings (int) - 嵌入字典的大小，input 中的 id 必须满足 0 =< id < num_embeddings 。\n",
    "# embedding_dim (int) - 每个嵌入向量的维度。\n",
    "embed_x = Embedding(num_embeddings=10000, embedding_dim=100, sparse=True)(x)\n",
    "print(x.shape, embed_x.shape)"
   ]
  }
 ],
 "metadata": {
  "kernelspec": {
   "display_name": "Python 3 (ipykernel)",
   "language": "python",
   "name": "python3"
  },
  "language_info": {
   "codemirror_mode": {
    "name": "ipython",
    "version": 3
   },
   "file_extension": ".py",
   "mimetype": "text/x-python",
   "name": "python",
   "nbconvert_exporter": "python",
   "pygments_lexer": "ipython3",
   "version": "3.10.12"
  }
 },
 "nbformat": 4,
 "nbformat_minor": 5
}
