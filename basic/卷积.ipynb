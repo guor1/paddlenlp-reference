{
 "cells": [
  {
   "cell_type": "markdown",
   "id": "1c3c480a-75c7-402c-a14a-9587c713ec44",
   "metadata": {},
   "source": [
    "# API文档\n",
    "1. https://www.paddlepaddle.org.cn/documentation/docs/zh/api/paddle/nn/Conv2D_cn.html\n",
    "2. https://www.paddlepaddle.org.cn/documentation/docs/zh/api/paddle/nn/MaxPool2D_cn.html"
   ]
  },
  {
   "cell_type": "code",
   "execution_count": 1,
   "id": "a9c2d1d1-8991-46c8-af7f-74bb1d2ae78e",
   "metadata": {},
   "outputs": [
    {
     "name": "stdout",
     "output_type": "stream",
     "text": [
      "2.5.1\n"
     ]
    }
   ],
   "source": [
    "import paddle as T\n",
    "from paddle.nn import Conv2D, MaxPool2D\n",
    "\n",
    "print(T.__version__)"
   ]
  },
  {
   "cell_type": "code",
   "execution_count": 2,
   "id": "707dec10-32da-4327-a781-64d66d8409bf",
   "metadata": {},
   "outputs": [],
   "source": [
    "input = T.uniform(shape=[3, 1, 28, 28])\n",
    "# data_format默认值：\"NCHW\"，N 是批尺寸，C 是通道数，H 是特征高度，W 是特征宽度。\n",
    "conv2d = Conv2D(in_channels=1, out_channels=5, kernel_size=5, padding='SAME', data_format='NCHW')\n",
    "pool2d = MaxPool2D(kernel_size=2)"
   ]
  },
  {
   "cell_type": "code",
   "execution_count": 3,
   "id": "aaf67018-8008-4a19-ae42-4cfcc7310991",
   "metadata": {},
   "outputs": [
    {
     "name": "stdout",
     "output_type": "stream",
     "text": [
      "[3, 5, 28, 28] [3, 5, 14, 14]\n"
     ]
    }
   ],
   "source": [
    "conv2d_out = conv2d(input) # shape = [3,5,28,28]\n",
    "pool2d_out = pool2d(conv2d_out) # shape = [3,5,14,14]\n",
    "print(conv2d_out.shape, pool2d_out.shape)"
   ]
  }
 ],
 "metadata": {
  "kernelspec": {
   "display_name": "Python 3 (ipykernel)",
   "language": "python",
   "name": "python3"
  },
  "language_info": {
   "codemirror_mode": {
    "name": "ipython",
    "version": 3
   },
   "file_extension": ".py",
   "mimetype": "text/x-python",
   "name": "python",
   "nbconvert_exporter": "python",
   "pygments_lexer": "ipython3",
   "version": "3.10.12"
  }
 },
 "nbformat": 4,
 "nbformat_minor": 5
}
