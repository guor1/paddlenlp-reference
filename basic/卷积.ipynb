{
 "cells": [
  {
   "cell_type": "code",
   "execution_count": 1,
   "id": "a9c2d1d1-8991-46c8-af7f-74bb1d2ae78e",
   "metadata": {},
   "outputs": [
    {
     "name": "stdout",
     "output_type": "stream",
     "text": [
      "2.5.1\n"
     ]
    }
   ],
   "source": [
    "import paddle\n",
    "from paddle.nn import Conv2D\n",
    "\n",
    "print(paddle.__version__)"
   ]
  },
  {
   "cell_type": "code",
   "execution_count": 2,
   "id": "16a9a448-a02b-4797-be14-05e6502ec947",
   "metadata": {},
   "outputs": [],
   "source": [
    "from paddle.vision.transforms import Compose, Normalize\n",
    "\n",
    "transform = Compose([Normalize(mean=[127.5], std=[127.5], data_format='CHW')])\n",
    "# 使用transform对数据集做归一化\n",
    "train_ds = paddle.vision.datasets.MNIST(mode='train', transform=transform)"
   ]
  },
  {
   "cell_type": "code",
   "execution_count": 3,
   "id": "1d52d32a-02c2-4133-b49f-4d6e7e33bd59",
   "metadata": {},
   "outputs": [],
   "source": [
    "conv2d = Conv2D(1, 5, kernel_size=5, padding='SAME')"
   ]
  },
  {
   "cell_type": "code",
   "execution_count": 4,
   "id": "d0944603-6c28-4562-a2e1-34f5d4c28d47",
   "metadata": {},
   "outputs": [],
   "source": [
    "x_train, y_train = [], []\n",
    "for item in train_ds:\n",
    "    x_train.append(item[0])\n",
    "    y_train.append(item[1])"
   ]
  },
  {
   "cell_type": "code",
   "execution_count": 5,
   "id": "4e59d141-953b-48db-8933-2b1f67a5a486",
   "metadata": {},
   "outputs": [
    {
     "data": {
      "text/plain": [
       "([5, 1, 28, 28], [5, 5, 28, 28])"
      ]
     },
     "execution_count": 5,
     "metadata": {},
     "output_type": "execute_result"
    }
   ],
   "source": [
    "x1 = paddle.to_tensor(x_train[:5])\n",
    "c1 = conv2d(x1)\n",
    "x1.shape, c1.shape"
   ]
  },
  {
   "cell_type": "code",
   "execution_count": 8,
   "id": "89002256-bd42-45ff-8a0a-03d44a4f83cb",
   "metadata": {},
   "outputs": [
    {
     "data": {
      "text/plain": [
       "LeNet(\n",
       "  (features): Sequential(\n",
       "    (0): Conv2D(1, 6, kernel_size=[3, 3], padding=1, data_format=NCHW)\n",
       "    (1): ReLU()\n",
       "    (2): MaxPool2D(kernel_size=2, stride=2, padding=0)\n",
       "    (3): Conv2D(6, 16, kernel_size=[5, 5], data_format=NCHW)\n",
       "    (4): ReLU()\n",
       "    (5): MaxPool2D(kernel_size=2, stride=2, padding=0)\n",
       "  )\n",
       "  (fc): Sequential(\n",
       "    (0): Linear(in_features=400, out_features=120, dtype=float32)\n",
       "    (1): Linear(in_features=120, out_features=84, dtype=float32)\n",
       "    (2): Linear(in_features=84, out_features=10, dtype=float32)\n",
       "  )\n",
       ")"
      ]
     },
     "execution_count": 8,
     "metadata": {},
     "output_type": "execute_result"
    }
   ],
   "source": [
    "import paddle\n",
    "from paddle.vision.models import LeNet\n",
    "\n",
    "# build model\n",
    "densenet = LeNet()\n",
    "densenet"
   ]
  }
 ],
 "metadata": {
  "kernelspec": {
   "display_name": "Python 3 (ipykernel)",
   "language": "python",
   "name": "python3"
  },
  "language_info": {
   "codemirror_mode": {
    "name": "ipython",
    "version": 3
   },
   "file_extension": ".py",
   "mimetype": "text/x-python",
   "name": "python",
   "nbconvert_exporter": "python",
   "pygments_lexer": "ipython3",
   "version": "3.10.12"
  }
 },
 "nbformat": 4,
 "nbformat_minor": 5
}
