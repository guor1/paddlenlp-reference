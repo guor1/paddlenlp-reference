{
 "cells": [
  {
   "cell_type": "code",
   "execution_count": null,
   "id": "257600f0-5c8e-4288-9247-18d348497112",
   "metadata": {
    "is_executing": true
   },
   "outputs": [],
   "source": [
    "import paddle\n",
    "import paddlenlp\n",
    "from paddle.utils import run_check\n",
    "from paddlenlp.transformers import ErnieTokenizer\n",
    "from core.preprocessor import create_dataloader\n",
    "\n",
    "run_check()\n",
    "print('自然语言相关数据集：', paddle.text.__all__)"
   ]
  },
  {
   "cell_type": "code",
   "execution_count": 2,
   "id": "df29b0c1-2c7a-4262-8ddb-60e6d5821bab",
   "metadata": {},
   "outputs": [
    {
     "name": "stderr",
     "output_type": "stream",
     "text": [
      "\u001B[32m[2023-08-08 15:35:42,735] [    INFO]\u001B[0m - Already cached C:\\Users\\guorui1\\.paddlenlp\\models\\ernie-3.0-medium-zh\\ernie_3.0_medium_zh_vocab.txt\u001B[0m\n",
      "\u001B[32m[2023-08-08 15:35:42,762] [    INFO]\u001B[0m - tokenizer config file saved in C:\\Users\\guorui1\\.paddlenlp\\models\\ernie-3.0-medium-zh\\tokenizer_config.json\u001B[0m\n",
      "\u001B[32m[2023-08-08 15:35:42,763] [    INFO]\u001B[0m - Special tokens file saved in C:\\Users\\guorui1\\.paddlenlp\\models\\ernie-3.0-medium-zh\\special_tokens_map.json\u001B[0m\n"
     ]
    }
   ],
   "source": [
    "#加载数据集\n",
    "train_ds, dev_ds, test_ds = paddlenlp.datasets.load_dataset('chnsenticorp', splits=['train', 'dev', 'test'])\n",
    "tokenizer: ErnieTokenizer = ErnieTokenizer.from_pretrained(\"ernie-3.0-medium-zh\")"
   ]
  },
  {
   "cell_type": "code",
   "execution_count": 3,
   "id": "cef7b1ab-7c2d-452a-96e9-fdc80576ef41",
   "metadata": {},
   "outputs": [],
   "source": [
    "train_data_loader = create_dataloader(dataset=train_ds, tokenizer=tokenizer)\n",
    "test_data_loader = create_dataloader(dataset=test_ds, tokenizer=tokenizer, with_labels=False)"
   ]
  },
  {
   "cell_type": "code",
   "execution_count": 4,
   "id": "9e3b11ee-a3b0-4601-bb0d-68d4edeb579f",
   "metadata": {},
   "outputs": [
    {
     "data": {
      "text/plain": [
       "[Tensor(shape=[16, 423], dtype=int32, place=Place(cpu), stop_gradient=True,\n",
       "        [[1  , 463, 318, ..., 0  , 0  , 0  ],\n",
       "         [1  , 47 , 31 , ..., 0  , 0  , 0  ],\n",
       "         [1  , 137, 394, ..., 0  , 0  , 0  ],\n",
       "         ...,\n",
       "         [1  , 335, 11 , ..., 0  , 0  , 0  ],\n",
       "         [1  , 836, 20 , ..., 0  , 0  , 0  ],\n",
       "         [1  , 8  , 205, ..., 0  , 0  , 0  ]]),\n",
       " Tensor(shape=[16, 423], dtype=int32, place=Place(cpu), stop_gradient=True,\n",
       "        [[0, 0, 0, ..., 0, 0, 0],\n",
       "         [0, 0, 0, ..., 0, 0, 0],\n",
       "         [0, 0, 0, ..., 0, 0, 0],\n",
       "         ...,\n",
       "         [0, 0, 0, ..., 0, 0, 0],\n",
       "         [0, 0, 0, ..., 0, 0, 0],\n",
       "         [0, 0, 0, ..., 0, 0, 0]]),\n",
       " Tensor(shape=[16, 423], dtype=int32, place=Place(cpu), stop_gradient=True,\n",
       "        [[1, 1, 1, ..., 0, 0, 0],\n",
       "         [1, 1, 1, ..., 0, 0, 0],\n",
       "         [1, 1, 1, ..., 0, 0, 0],\n",
       "         ...,\n",
       "         [1, 1, 1, ..., 0, 0, 0],\n",
       "         [1, 1, 1, ..., 0, 0, 0],\n",
       "         [1, 1, 1, ..., 0, 0, 0]])]"
      ]
     },
     "execution_count": 4,
     "metadata": {},
     "output_type": "execute_result"
    }
   ],
   "source": [
    "next(iter(test_data_loader))"
   ]
  },
  {
   "cell_type": "code",
   "execution_count": null,
   "id": "3a8eda5a-5ac4-474d-a4ab-222a77e4b937",
   "metadata": {},
   "outputs": [],
   "source": []
  }
 ],
 "metadata": {
  "kernelspec": {
   "display_name": "Python 3 (ipykernel)",
   "language": "python",
   "name": "python3"
  },
  "language_info": {
   "codemirror_mode": {
    "name": "ipython",
    "version": 3
   },
   "file_extension": ".py",
   "mimetype": "text/x-python",
   "name": "python",
   "nbconvert_exporter": "python",
   "pygments_lexer": "ipython3",
   "version": "3.10.12"
  }
 },
 "nbformat": 4,
 "nbformat_minor": 5
}
